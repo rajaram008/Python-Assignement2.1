{
  "nbformat": 4,
  "nbformat_minor": 0,
  "metadata": {
    "colab": {
      "name": "Untitled4.ipynb",
      "version": "0.3.2",
      "views": {},
      "default_view": {},
      "provenance": []
    },
    "kernelspec": {
      "name": "python3",
      "display_name": "Python 3"
    }
  },
  "cells": [
    {
      "metadata": {
        "id": "gqMQ2SlIKyjv",
        "colab_type": "code",
        "colab": {
          "autoexec": {
            "startup": false,
            "wait_interval": 0
          },
          "base_uri": "https://localhost:8080/",
          "height": 51
        },
        "outputId": "2aef4f9c-ac1e-44d1-c79c-d847abeca894",
        "executionInfo": {
          "status": "ok",
          "timestamp": 1533037763752,
          "user_tz": -330,
          "elapsed": 829,
          "user": {
            "displayName": "Rajaram Tripathy",
            "photoUrl": "//lh6.googleusercontent.com/-i36HQO2rFzQ/AAAAAAAAAAI/AAAAAAAAAmk/wo74Cfd039M/s50-c-k-no/photo.jpg",
            "userId": "114877031278411201428"
          }
        }
      },
      "cell_type": "code",
      "source": [
        "## Assignment2.1- Task1.1  Write a Python Program to implement your own myreduce() function which works exactly \n",
        "## like Python's built-in function reduce()\n",
        "\n",
        "# multipy each element of list and give the multiplication of all numbers\n",
        "\n",
        "def mul(lst):                            \n",
        "\n",
        "    out = 1\n",
        "\n",
        "    for x in lst[:]:\n",
        "\n",
        "        out = out * x\n",
        "\n",
        "    return out\n",
        "\n",
        "# add each element of list and give the sum of all numbers\n",
        "\n",
        "def add(lst):\n",
        "\n",
        "    out = 0\n",
        "\n",
        "    for x in lst[:]:\n",
        "\n",
        "        out = out + x\n",
        "\n",
        "    return out\n",
        "\n",
        "#myreduce function which takes function and list as parameter\n",
        "\n",
        "def myreduce(func, lst):               \n",
        "\n",
        "    return(func(lst))\n",
        "\n",
        "input_list = [1,2,3,4,5]\n",
        "\n",
        "print(myreduce(mul, input_list))\n",
        "\n",
        "print(myreduce(add, input_list)) "
      ],
      "execution_count": 1,
      "outputs": [
        {
          "output_type": "stream",
          "text": [
            "120\n",
            "15\n"
          ],
          "name": "stdout"
        }
      ]
    },
    {
      "metadata": {
        "id": "IOGOcpV5LNqV",
        "colab_type": "code",
        "colab": {
          "autoexec": {
            "startup": false,
            "wait_interval": 0
          },
          "base_uri": "https://localhost:8080/",
          "height": 51
        },
        "outputId": "0ca67a35-f2de-4cd2-8f4d-75a22449d766",
        "executionInfo": {
          "status": "ok",
          "timestamp": 1533037841832,
          "user_tz": -330,
          "elapsed": 965,
          "user": {
            "displayName": "Rajaram Tripathy",
            "photoUrl": "//lh6.googleusercontent.com/-i36HQO2rFzQ/AAAAAAAAAAI/AAAAAAAAAmk/wo74Cfd039M/s50-c-k-no/photo.jpg",
            "userId": "114877031278411201428"
          }
        }
      },
      "cell_type": "code",
      "source": [
        "## Assignment2.1 - Task 1.2: Write a Python program to implement your own myfilter() function which works exactly like\n",
        "## Python's built-in function filter()\n",
        "\n",
        "# Check out for the even numbers\n",
        "def even_check(lst):\n",
        "    lst_out = []\n",
        "    for x in lst[:]:\n",
        "        if x%2 == 0:            \n",
        "            lst_out.append(x)\n",
        "    return(lst_out)     \n",
        "\n",
        "# check out for odd numbers\n",
        "def odd_check(lst):\n",
        "    lst_out = []\n",
        "    for x in lst[:]:\n",
        "        if x%2 != 0:            \n",
        "            lst_out.append(x)\n",
        "    return(lst_out) \n",
        "\n",
        "# myfilter function    \n",
        "def myfilter(func, lst):              \n",
        "    return(func(lst))\n",
        "\n",
        "input_lst = [1,2,3,4,5]\n",
        "print(myfilter(even_check, input_lst))\n",
        "print(myfilter(odd_check, input_lst))"
      ],
      "execution_count": 2,
      "outputs": [
        {
          "output_type": "stream",
          "text": [
            "[2, 4]\n",
            "[1, 3, 5]\n"
          ],
          "name": "stdout"
        }
      ]
    },
    {
      "metadata": {
        "id": "GB_CNk8WLSRE",
        "colab_type": "code",
        "colab": {
          "autoexec": {
            "startup": false,
            "wait_interval": 0
          },
          "base_uri": "https://localhost:8080/",
          "height": 34
        },
        "outputId": "f90dcf46-9639-4fb9-d8b8-c463d6478811",
        "executionInfo": {
          "status": "ok",
          "timestamp": 1533037869042,
          "user_tz": -330,
          "elapsed": 820,
          "user": {
            "displayName": "Rajaram Tripathy",
            "photoUrl": "//lh6.googleusercontent.com/-i36HQO2rFzQ/AAAAAAAAAAI/AAAAAAAAAmk/wo74Cfd039M/s50-c-k-no/photo.jpg",
            "userId": "114877031278411201428"
          }
        }
      },
      "cell_type": "code",
      "source": [
        "##Assignment2.1\n",
        "\n",
        "#Task 1.3: Implement a function longestWord() that takes a list of words and returns the longest one.\n",
        "\n",
        "from functools import reduce\n",
        "\n",
        "def longestword(my_list):\n",
        "    word = reduce(lambda x,y: x if(len(x)>=len(y)) else y, my_list)\n",
        "    print(word)\n",
        "\n",
        "\n",
        "\n",
        "list1 = [\"india\",\"is\",\"the\",\"best\"]\n",
        "\n",
        "longestword(list1)"
      ],
      "execution_count": 3,
      "outputs": [
        {
          "output_type": "stream",
          "text": [
            "india\n"
          ],
          "name": "stdout"
        }
      ]
    },
    {
      "metadata": {
        "id": "lrboSrCxLY2e",
        "colab_type": "code",
        "colab": {
          "autoexec": {
            "startup": false,
            "wait_interval": 0
          },
          "base_uri": "https://localhost:8080/",
          "height": 85
        },
        "outputId": "9296943b-e4e7-4d63-bace-a20d16718db5",
        "executionInfo": {
          "status": "ok",
          "timestamp": 1533037933747,
          "user_tz": -330,
          "elapsed": 39271,
          "user": {
            "displayName": "Rajaram Tripathy",
            "photoUrl": "//lh6.googleusercontent.com/-i36HQO2rFzQ/AAAAAAAAAAI/AAAAAAAAAmk/wo74Cfd039M/s50-c-k-no/photo.jpg",
            "userId": "114877031278411201428"
          }
        }
      },
      "cell_type": "code",
      "source": [
        "##Assignment2.1\n",
        "\n",
        "#Task 2.1.1: Write a Python Program(with class concepts) to find the area of the triangle using the below formula.\n",
        "#area = (s*(s-a)*(s-b)*(s-c)) ** 0.5\n",
        "#Function to take the length of the sides of triangle from user should be defined in the parent class and function to calculate the area should be defined in subclass.\n",
        "\n",
        "class AreaOfTraingle:\n",
        "     def __init__(self,a=0,b=0,c=0):\n",
        "            self.a = a \n",
        "            self.b = b\n",
        "            self.c = c\n",
        "     def set_sides(self):\n",
        "            self.a = int(input(\"Enter the length of side 1: \"))\n",
        "            self.b = int(input(\"Enter the length of side 2: \"))\n",
        "            self.c = int(input(\"Enter the length of side 3: \"))\n",
        "\n",
        "class AreaOfTriangeSubclass(AreaOfTraingle):\n",
        "\n",
        "    def area(self):\n",
        "        self.s = (self.a+self.b+self.c)/2\n",
        "        area = ((self.s-self.a)*(self.s-self.b)*(self.s-self.c) *self.s)**0.5\n",
        "        print(\"Area of the triangle is \",area)\n",
        "\n",
        "c = AreaOfTriangeSubclass()\n",
        "c.set_sides()\n",
        "c.area()"
      ],
      "execution_count": 4,
      "outputs": [
        {
          "output_type": "stream",
          "text": [
            "Enter the length of side 1: 12\n",
            "Enter the length of side 2: 24\n",
            "Enter the length of side 3: 15\n",
            "Area of the triangle is  73.63380677379108\n"
          ],
          "name": "stdout"
        }
      ]
    },
    {
      "metadata": {
        "id": "VBpkr7nNLoGb",
        "colab_type": "code",
        "colab": {
          "autoexec": {
            "startup": false,
            "wait_interval": 0
          },
          "base_uri": "https://localhost:8080/",
          "height": 34
        },
        "outputId": "1068ad94-07c6-4040-c046-3196e709200f",
        "executionInfo": {
          "status": "ok",
          "timestamp": 1533037946141,
          "user_tz": -330,
          "elapsed": 824,
          "user": {
            "displayName": "Rajaram Tripathy",
            "photoUrl": "//lh6.googleusercontent.com/-i36HQO2rFzQ/AAAAAAAAAAI/AAAAAAAAAmk/wo74Cfd039M/s50-c-k-no/photo.jpg",
            "userId": "114877031278411201428"
          }
        }
      },
      "cell_type": "code",
      "source": [
        "##Assignment2.1\n",
        "\n",
        "#Task 2.1.2: Write a function filter_long_words() that takes a list of words and an integer n and returns the list of words\n",
        "#that are longer than n.\n",
        "list_long_words=[]\n",
        "\n",
        "def filter_long_words(mylist,num):\n",
        "    return [word for word in mylist if len(word) > num]\n",
        "      \n",
        "list_of_words={\"raja\",\"ram\",\"trip\"}\n",
        "list_long_words = filter_long_words(list_of_words,3)\n",
        "print (list_long_words)"
      ],
      "execution_count": 5,
      "outputs": [
        {
          "output_type": "stream",
          "text": [
            "['raja', 'trip']\n"
          ],
          "name": "stdout"
        }
      ]
    },
    {
      "metadata": {
        "id": "gacRFgnQLvzh",
        "colab_type": "code",
        "colab": {
          "autoexec": {
            "startup": false,
            "wait_interval": 0
          },
          "base_uri": "https://localhost:8080/",
          "height": 119
        },
        "outputId": "c7679ff8-8efa-417e-9540-cc5185d63316",
        "executionInfo": {
          "status": "ok",
          "timestamp": 1533037972799,
          "user_tz": -330,
          "elapsed": 819,
          "user": {
            "displayName": "Rajaram Tripathy",
            "photoUrl": "//lh6.googleusercontent.com/-i36HQO2rFzQ/AAAAAAAAAAI/AAAAAAAAAmk/wo74Cfd039M/s50-c-k-no/photo.jpg",
            "userId": "114877031278411201428"
          }
        }
      },
      "cell_type": "code",
      "source": [
        "##Assignment2.1\n",
        "\n",
        "#Task 1.2 Implement List comprehensions to produce the following lists.\n",
        "#Write List comprehensions to produce the following Lists\n",
        "#['A', 'C', 'A', 'D', 'G', 'I', ’L’, ‘ D’]\n",
        "#['x', 'xx', 'xxx', 'xxxx', 'y', 'yy', 'yyy', 'yyyy', 'z', 'zz', 'zzz', 'zzzz']\n",
        "#['x', 'y', 'z', 'xx', 'yy', 'zz', 'xx', 'yy', 'zz', 'xxxx', 'yyyy', 'zzzz']\n",
        "#[[2], [3], [4], [3], [4], [5], [4], [5], [6]]\n",
        "# [[2, 3, 4, 5], [3, 4, 5, 6], [4, 5, 6, 7], [5, 6, 7, 8]]\n",
        "# [(1, 1), (2, 1), (3, 1), (1, 2), (2, 2), (3, 2), (1, 3), (2, 3), (3, 3)]\n",
        "\n",
        "# 1.\n",
        "str =\"ACADGILD\"\n",
        "li = [ x for x in str] \n",
        "print(li)\n",
        "\n",
        "# 2.\n",
        "li = [x*i for x in \"xyz\" for i in range(1,5)]\n",
        "print(li)\n",
        "\n",
        "# 3.\n",
        "li = [x*i for i in range(1,5) for x in \"xyz\"]\n",
        "print(li)\n",
        "\n",
        "# 4.\n",
        "li = [ [y] for x in range(3) for y in range(x+2,x+5)]\n",
        "print(li)\n",
        "\n",
        "# 5.\n",
        "lo = [2,3,4,5,6,7,8]\n",
        "li = [ lo[x:x+4] for x in range(4)]\n",
        "print (li)\n",
        "\n",
        "#6.\n",
        "li=[(y,x) for x in range(1,4) for y in range(1,4)]\n",
        "print(li)"
      ],
      "execution_count": 6,
      "outputs": [
        {
          "output_type": "stream",
          "text": [
            "['A', 'C', 'A', 'D', 'G', 'I', 'L', 'D']\n",
            "['x', 'xx', 'xxx', 'xxxx', 'y', 'yy', 'yyy', 'yyyy', 'z', 'zz', 'zzz', 'zzzz']\n",
            "['x', 'y', 'z', 'xx', 'yy', 'zz', 'xxx', 'yyy', 'zzz', 'xxxx', 'yyyy', 'zzzz']\n",
            "[[2], [3], [4], [3], [4], [5], [4], [5], [6]]\n",
            "[[2, 3, 4, 5], [3, 4, 5, 6], [4, 5, 6, 7], [5, 6, 7, 8]]\n",
            "[(1, 1), (2, 1), (3, 1), (1, 2), (2, 2), (3, 2), (1, 3), (2, 3), (3, 3)]\n"
          ],
          "name": "stdout"
        }
      ]
    },
    {
      "metadata": {
        "id": "lol7zXhQL70e",
        "colab_type": "code",
        "colab": {
          "autoexec": {
            "startup": false,
            "wait_interval": 0
          },
          "base_uri": "https://localhost:8080/",
          "height": 34
        },
        "outputId": "f6f5f807-f57c-4134-bcec-c65da15a53c3",
        "executionInfo": {
          "status": "ok",
          "timestamp": 1533038270320,
          "user_tz": -330,
          "elapsed": 813,
          "user": {
            "displayName": "Rajaram Tripathy",
            "photoUrl": "//lh6.googleusercontent.com/-i36HQO2rFzQ/AAAAAAAAAAI/AAAAAAAAAmk/wo74Cfd039M/s50-c-k-no/photo.jpg",
            "userId": "114877031278411201428"
          }
        }
      },
      "cell_type": "code",
      "source": [
        "##Assignment2.1\n",
        "\n",
        "#Task 2.2.1: Write a Python program using function concept that maps list of words into a list of integers\n",
        "# representing the lengths of the corresponding words.\n",
        "# Hint: ​If a list [ ab,cde,erty] is passed on to the python function output should come as [2,3,4]\n",
        "# Here 2,3 and 4 are the lengths of the words in the list.\n",
        "\n",
        "def word_to_integer(mylist):\n",
        "    list1=[]\n",
        "    for word in mylist:\n",
        "        list1.append(len(word))\n",
        "    print(list1)\n",
        "    \n",
        "word_to_number_map = {\"ab\",\"dfrh\",\"wfgdwfgdfg\",\"jk\",\"jkgh\"}\n",
        "word_to_integer(word_to_number_map)"
      ],
      "execution_count": 10,
      "outputs": [
        {
          "output_type": "stream",
          "text": [
            "[2, 4, 10, 2, 4]\n"
          ],
          "name": "stdout"
        }
      ]
    },
    {
      "metadata": {
        "id": "PBCQPa9MMCnt",
        "colab_type": "code",
        "colab": {
          "autoexec": {
            "startup": false,
            "wait_interval": 0
          },
          "base_uri": "https://localhost:8080/",
          "height": 68
        },
        "outputId": "b7e08417-75ee-4daf-de64-6e25595b49c6",
        "executionInfo": {
          "status": "ok",
          "timestamp": 1533038281684,
          "user_tz": -330,
          "elapsed": 792,
          "user": {
            "displayName": "Rajaram Tripathy",
            "photoUrl": "//lh6.googleusercontent.com/-i36HQO2rFzQ/AAAAAAAAAAI/AAAAAAAAAmk/wo74Cfd039M/s50-c-k-no/photo.jpg",
            "userId": "114877031278411201428"
          }
        }
      },
      "cell_type": "code",
      "source": [
        "##Assignment2.1\n",
        "\n",
        "#Task 2.2.2: Write a Python function which takes a character (i.e. a string of length 1) and returns True if it is\n",
        "# a vowel, False otherwise.\n",
        "\n",
        "def is_vowel(char):\n",
        "    vowels = ('a', 'e', 'i', 'o', 'u')\n",
        "    if char not in vowels:\n",
        "        return False\n",
        "    return True\n",
        "\n",
        "print(is_vowel('k'))\n",
        "print(is_vowel('a'))\n",
        "print(is_vowel('b'))\n",
        " "
      ],
      "execution_count": 11,
      "outputs": [
        {
          "output_type": "stream",
          "text": [
            "False\n",
            "True\n",
            "False\n"
          ],
          "name": "stdout"
        }
      ]
    }
  ]
}